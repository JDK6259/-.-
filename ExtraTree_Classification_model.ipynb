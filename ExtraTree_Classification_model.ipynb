{
 "cells": [
  {
   "cell_type": "code",
   "execution_count": 1,
   "metadata": {
    "id": "Zm6aP-msG8bv"
   },
   "outputs": [],
   "source": [
    "import numpy as np\n",
    "import pandas as pd\n",
    "pd.set_option(\"display.max_row\", 50)\n",
    "pd.set_option(\"display.max_column\", 50)\n",
    "\n",
    "from sklearn.model_selection import train_test_split\n",
    "\n",
    "from sklearn.model_selection import GridSearchCV\n",
    "from sklearn.model_selection import RandomizedSearchCV\n",
    "\n",
    "from sklearn.model_selection import StratifiedKFold\n",
    "\n",
    "from sklearn.ensemble import ExtraTreesClassifier\n",
    "\n",
    "from sklearn.metrics import roc_auc_score\n",
    "from sklearn.model_selection import cross_val_score\n",
    "\n",
    "import gc\n",
    "import re\n",
    "import os\n",
    "import time\n",
    "import random\n",
    "import platform\n",
    "import datetime as dt\n",
    "from tqdm import tqdm\n",
    "from itertools import combinations\n",
    "from scipy.stats.mstats import gmean\n",
    "import warnings; warnings.filterwarnings(\"ignore\")"
   ]
  },
  {
   "cell_type": "markdown",
   "metadata": {},
   "source": [
    "### 데이터 로드"
   ]
  },
  {
   "cell_type": "code",
   "execution_count": 2,
   "metadata": {
    "id": "SecAe2F2G-dk"
   },
   "outputs": [],
   "source": [
    "train = pd.read_csv('./dataset/trainset.csv')\n",
    "train = train.drop(columns=['매니저최초가입일' , '매니저최초서비스일','매니저주소'])\n",
    "train['매니저생년월일'] = train['매니저생년월일'].apply(lambda x: int(str(x)[:-6]))\n",
    "\n",
    "test = pd.read_csv('./dataset/testset_final.csv')\n",
    "submission = pd.read_csv('./dataset/sample_submission_final.csv')"
   ]
  },
  {
   "cell_type": "code",
   "execution_count": 3,
   "metadata": {
    "id": "Sl_KxJfLHR0s"
   },
   "outputs": [],
   "source": [
    "tr = pd.concat([train, test])"
   ]
  },
  {
   "cell_type": "markdown",
   "metadata": {},
   "source": [
    "### 데이터 전처리"
   ]
  },
  {
   "cell_type": "markdown",
   "metadata": {},
   "source": [
    "#### 1. 결측치 처리"
   ]
  },
  {
   "cell_type": "code",
   "execution_count": 4,
   "metadata": {
    "id": "Hbah2uqTHYG4"
   },
   "outputs": [],
   "source": [
    "#To Fill\n",
    "col1 = {'평수':'없음',\n",
    "        '결재형태' : '신용카드',\n",
    "        '고객가입일' : '2020-06-23',\n",
    "        '반려동물':'없음',\n",
    "        '부재중여부': '모름',\n",
    "        '우선청소' :'없음',\n",
    "        '매니저사용휴대폰': '안드로이드',\n",
    "        '매니저이동방법': '대중교통',\n",
    "        'CS교육이수여부': 0,\n",
    "        '청소교육이수여부': 0}\n",
    "\n",
    "tr = tr.fillna(col1)"
   ]
  },
  {
   "cell_type": "markdown",
   "metadata": {},
   "source": [
    "#### 2. 결측치 많은 행 삭제"
   ]
  },
  {
   "cell_type": "code",
   "execution_count": 5,
   "metadata": {
    "id": "Hbah2uqTHYG4"
   },
   "outputs": [],
   "source": [
    "#To drop\n",
    "col2 = {'접수시각', '매칭성공여부'}\n",
    "tr = tr.drop(col2, axis='columns')"
   ]
  },
  {
   "cell_type": "markdown",
   "metadata": {},
   "source": [
    "#### 3. 월, 일 컬럼 생성 및 날짜 데이터 처리"
   ]
  },
  {
   "cell_type": "code",
   "execution_count": 6,
   "metadata": {
    "id": "1BBzZtvMHZoc"
   },
   "outputs": [],
   "source": [
    "tr['접수월'] = tr['접수일'].apply(lambda x: x[5:7]).astype(int)\n",
    "tr['접수일일'] = tr['접수일'].apply(lambda x: x[-2:]).astype(int)"
   ]
  },
  {
   "cell_type": "code",
   "execution_count": 7,
   "metadata": {
    "id": "gDMyvr4_HbFb"
   },
   "outputs": [],
   "source": [
    "tr.최초서비스일 = pd.to_datetime(tr.최초서비스일)\n",
    "tr.서비스일자 = pd.to_datetime(pd.to_datetime(tr.서비스일자))"
   ]
  },
  {
   "cell_type": "markdown",
   "metadata": {},
   "source": [
    "#### 4. 추가 Feature 생성"
   ]
  },
  {
   "cell_type": "markdown",
   "metadata": {},
   "source": [
    "#### 4-1. 서비스이용기간 feature 생성"
   ]
  },
  {
   "cell_type": "code",
   "execution_count": 8,
   "metadata": {
    "id": "kvd153smHcAU"
   },
   "outputs": [],
   "source": [
    "tr['서비스이용기간'] = tr.서비스일자-tr.최초서비스일\n",
    "tr['서비스이용기간'] = tr['서비스이용기간'].apply(lambda x: int(str(x)[:-14]))"
   ]
  },
  {
   "cell_type": "markdown",
   "metadata": {},
   "source": [
    "#### 4-2. 매니저연령대 feature 생성"
   ]
  },
  {
   "cell_type": "code",
   "execution_count": 9,
   "metadata": {
    "id": "ZNMYNOCeHeLu"
   },
   "outputs": [],
   "source": [
    "def age(x):\n",
    "    if x < 1960:\n",
    "        return 1\n",
    "    elif x < 1970:\n",
    "        return 2\n",
    "    elif x < 1980:\n",
    "        return 3\n",
    "    elif x < 1990:\n",
    "        return 4\n",
    "    else:\n",
    "        return 5\n",
    "    \n",
    "tr['매니저연령대'] = tr['매니저생년월일'].apply(lambda x: age(x))"
   ]
  },
  {
   "cell_type": "markdown",
   "metadata": {},
   "source": [
    "#### 4-3. 반려동물여부 feature 생성"
   ]
  },
  {
   "cell_type": "code",
   "execution_count": 10,
   "metadata": {
    "id": "943UIuuQHfjn"
   },
   "outputs": [],
   "source": [
    "def pet(x):\n",
    "    if x == '없음':\n",
    "        return 1\n",
    "    else:\n",
    "        return 0\n",
    "    \n",
    "tr['반려동물여부'] = tr['반려동물'].apply(lambda x: pet(x))"
   ]
  },
  {
   "cell_type": "markdown",
   "metadata": {},
   "source": [
    "#### 4-4. 종합지수 feature 생성"
   ]
  },
  {
   "cell_type": "code",
   "execution_count": 11,
   "metadata": {
    "id": "4X2yZqXzHhVU"
   },
   "outputs": [],
   "source": [
    "tr['종합지수'] = tr['부재중서비스가능여부'] - tr['쿠폰사용여부'] + tr['CS교육이수여부'] + tr['청소교육이수여부'] + tr['추천인여부'] + tr['반려동물여부']"
   ]
  },
  {
   "cell_type": "markdown",
   "metadata": {},
   "source": [
    "#### 4-5. 서비스시간대 feature 생성"
   ]
  },
  {
   "cell_type": "code",
   "execution_count": 12,
   "metadata": {
    "id": "ylIM6_AXHiJB"
   },
   "outputs": [],
   "source": [
    "tr['서비스시작시간_2'] = tr['서비스시작시간'].apply(lambda x: int(x[:-6]))"
   ]
  },
  {
   "cell_type": "code",
   "execution_count": 13,
   "metadata": {
    "id": "vrEdlBs1HjNw"
   },
   "outputs": [],
   "source": [
    "def hour(x):\n",
    "    if x <=12 and x >= 6:\n",
    "        return 0\n",
    "    else:\n",
    "        return 1\n",
    "    \n",
    "tr['서비스시간대'] = tr['서비스시작시간_2'].apply(lambda x: hour(x))\n",
    "tr = tr.drop(columns = '서비스시작시간_2', axis=1)"
   ]
  },
  {
   "cell_type": "markdown",
   "metadata": {},
   "source": [
    "#### 4-6. 주거가중치 feature 생성"
   ]
  },
  {
   "cell_type": "code",
   "execution_count": 14,
   "metadata": {
    "id": "MSaz6dc3HtBS"
   },
   "outputs": [],
   "source": [
    "def house_size(x):\n",
    "    if x == '10평대':\n",
    "        return 1\n",
    "    elif x == '20평대':\n",
    "        return 2\n",
    "    elif x == '30평대':\n",
    "        return 3\n",
    "    elif x == '모름':\n",
    "        return 0\n",
    "    else:\n",
    "        return 4\n",
    "\n",
    "tr['평수_1'] = tr['평수'].apply(lambda x: house_size(x))"
   ]
  },
  {
   "cell_type": "code",
   "execution_count": 15,
   "metadata": {
    "id": "SkyvR7ByHvDu"
   },
   "outputs": [],
   "source": [
    "def house_type(x):\n",
    "    if x == '일반주택':\n",
    "        return 1\n",
    "    else:\n",
    "        return 2\n",
    "    \n",
    "tr['주거형태_1'] = tr['주거형태'].apply(lambda x: house_type(x))\n",
    "tr['주거가중치'] = tr['주거형태_1'] + tr['평수_1']\n",
    "tr = tr.drop(columns =['평수_1','주거형태_1'], axis=1)"
   ]
  },
  {
   "cell_type": "code",
   "execution_count": 16,
   "metadata": {},
   "outputs": [
    {
     "data": {
      "text/html": [
       "<div>\n",
       "<style scoped>\n",
       "    .dataframe tbody tr th:only-of-type {\n",
       "        vertical-align: middle;\n",
       "    }\n",
       "\n",
       "    .dataframe tbody tr th {\n",
       "        vertical-align: top;\n",
       "    }\n",
       "\n",
       "    .dataframe thead th {\n",
       "        text-align: right;\n",
       "    }\n",
       "</style>\n",
       "<table border=\"1\" class=\"dataframe\">\n",
       "  <thead>\n",
       "    <tr style=\"text-align: right;\">\n",
       "      <th></th>\n",
       "      <th>SEQ</th>\n",
       "      <th>접수일</th>\n",
       "      <th>장기서비스여부</th>\n",
       "      <th>최초서비스일</th>\n",
       "      <th>전체회차</th>\n",
       "      <th>현재회차</th>\n",
       "      <th>서비스일자</th>\n",
       "      <th>서비스시작시간</th>\n",
       "      <th>서비스종료시간</th>\n",
       "      <th>기존고객여부</th>\n",
       "      <th>결재형태</th>\n",
       "      <th>서비스주소</th>\n",
       "      <th>주거형태</th>\n",
       "      <th>평수</th>\n",
       "      <th>고객가입일</th>\n",
       "      <th>반려동물</th>\n",
       "      <th>부재중여부</th>\n",
       "      <th>우선청소</th>\n",
       "      <th>쿠폰사용여부</th>\n",
       "      <th>매니저생년월일</th>\n",
       "      <th>매니저성별</th>\n",
       "      <th>매니저사용휴대폰</th>\n",
       "      <th>매니저이동방법</th>\n",
       "      <th>근무가능지역</th>\n",
       "      <th>CS교육이수여부</th>\n",
       "      <th>청소교육이수여부</th>\n",
       "      <th>부재중서비스가능여부</th>\n",
       "      <th>추천인여부</th>\n",
       "      <th>접수월</th>\n",
       "      <th>접수일일</th>\n",
       "      <th>서비스이용기간</th>\n",
       "      <th>매니저연령대</th>\n",
       "      <th>반려동물여부</th>\n",
       "      <th>종합지수</th>\n",
       "      <th>서비스시간대</th>\n",
       "      <th>주거가중치</th>\n",
       "    </tr>\n",
       "  </thead>\n",
       "  <tbody>\n",
       "    <tr>\n",
       "      <th>0</th>\n",
       "      <td>T06420</td>\n",
       "      <td>2019-07-09</td>\n",
       "      <td>1</td>\n",
       "      <td>2019-07-15</td>\n",
       "      <td>3</td>\n",
       "      <td>3</td>\n",
       "      <td>2019-07-29</td>\n",
       "      <td>9:00:00</td>\n",
       "      <td>13:00:00</td>\n",
       "      <td>1</td>\n",
       "      <td>무통장입금</td>\n",
       "      <td>충남 천안시</td>\n",
       "      <td>일반주택</td>\n",
       "      <td>없음</td>\n",
       "      <td>2019-04-22</td>\n",
       "      <td>없음</td>\n",
       "      <td>모름</td>\n",
       "      <td>없음</td>\n",
       "      <td>0</td>\n",
       "      <td>1956</td>\n",
       "      <td>0</td>\n",
       "      <td>안드로이드</td>\n",
       "      <td>대중교통</td>\n",
       "      <td>서울</td>\n",
       "      <td>0.0</td>\n",
       "      <td>0.0</td>\n",
       "      <td>1</td>\n",
       "      <td>0</td>\n",
       "      <td>7</td>\n",
       "      <td>9</td>\n",
       "      <td>14</td>\n",
       "      <td>1</td>\n",
       "      <td>1</td>\n",
       "      <td>2.0</td>\n",
       "      <td>0</td>\n",
       "      <td>5</td>\n",
       "    </tr>\n",
       "    <tr>\n",
       "      <th>1</th>\n",
       "      <td>T15430</td>\n",
       "      <td>2019-07-12</td>\n",
       "      <td>1</td>\n",
       "      <td>2019-07-15</td>\n",
       "      <td>4</td>\n",
       "      <td>3</td>\n",
       "      <td>2019-08-20</td>\n",
       "      <td>10:00:00</td>\n",
       "      <td>16:00:00</td>\n",
       "      <td>1</td>\n",
       "      <td>무통장입금</td>\n",
       "      <td>충남 천안시</td>\n",
       "      <td>일반주택</td>\n",
       "      <td>없음</td>\n",
       "      <td>2019-05-21</td>\n",
       "      <td>없음</td>\n",
       "      <td>모름</td>\n",
       "      <td>없음</td>\n",
       "      <td>0</td>\n",
       "      <td>1976</td>\n",
       "      <td>0</td>\n",
       "      <td>안드로이드</td>\n",
       "      <td>대중교통</td>\n",
       "      <td>천안/아산</td>\n",
       "      <td>1.0</td>\n",
       "      <td>1.0</td>\n",
       "      <td>1</td>\n",
       "      <td>0</td>\n",
       "      <td>7</td>\n",
       "      <td>12</td>\n",
       "      <td>36</td>\n",
       "      <td>3</td>\n",
       "      <td>1</td>\n",
       "      <td>4.0</td>\n",
       "      <td>0</td>\n",
       "      <td>5</td>\n",
       "    </tr>\n",
       "    <tr>\n",
       "      <th>2</th>\n",
       "      <td>T23790</td>\n",
       "      <td>2020-11-18</td>\n",
       "      <td>1</td>\n",
       "      <td>2020-11-23</td>\n",
       "      <td>10</td>\n",
       "      <td>6</td>\n",
       "      <td>2020-12-11</td>\n",
       "      <td>9:00:00</td>\n",
       "      <td>13:00:00</td>\n",
       "      <td>1</td>\n",
       "      <td>신용카드</td>\n",
       "      <td>충남 천안시</td>\n",
       "      <td>일반주택</td>\n",
       "      <td>40평대이상</td>\n",
       "      <td>2020-10-14</td>\n",
       "      <td>없음</td>\n",
       "      <td>0.0</td>\n",
       "      <td>없음</td>\n",
       "      <td>0</td>\n",
       "      <td>1970</td>\n",
       "      <td>0</td>\n",
       "      <td>안드로이드</td>\n",
       "      <td>대중교통</td>\n",
       "      <td>천안/아산</td>\n",
       "      <td>0.0</td>\n",
       "      <td>0.0</td>\n",
       "      <td>0</td>\n",
       "      <td>0</td>\n",
       "      <td>11</td>\n",
       "      <td>18</td>\n",
       "      <td>18</td>\n",
       "      <td>3</td>\n",
       "      <td>1</td>\n",
       "      <td>1.0</td>\n",
       "      <td>0</td>\n",
       "      <td>5</td>\n",
       "    </tr>\n",
       "    <tr>\n",
       "      <th>3</th>\n",
       "      <td>T18740</td>\n",
       "      <td>2020-11-09</td>\n",
       "      <td>1</td>\n",
       "      <td>2020-11-09</td>\n",
       "      <td>4</td>\n",
       "      <td>4</td>\n",
       "      <td>2020-11-30</td>\n",
       "      <td>9:00:00</td>\n",
       "      <td>14:00:00</td>\n",
       "      <td>1</td>\n",
       "      <td>무통장입금</td>\n",
       "      <td>서울 강서구</td>\n",
       "      <td>일반주택</td>\n",
       "      <td>30평대</td>\n",
       "      <td>2020-02-06</td>\n",
       "      <td>없음</td>\n",
       "      <td>0.0</td>\n",
       "      <td>방</td>\n",
       "      <td>0</td>\n",
       "      <td>1956</td>\n",
       "      <td>0</td>\n",
       "      <td>안드로이드</td>\n",
       "      <td>대중교통</td>\n",
       "      <td>서울</td>\n",
       "      <td>0.0</td>\n",
       "      <td>0.0</td>\n",
       "      <td>1</td>\n",
       "      <td>0</td>\n",
       "      <td>11</td>\n",
       "      <td>9</td>\n",
       "      <td>21</td>\n",
       "      <td>1</td>\n",
       "      <td>1</td>\n",
       "      <td>2.0</td>\n",
       "      <td>0</td>\n",
       "      <td>4</td>\n",
       "    </tr>\n",
       "    <tr>\n",
       "      <th>4</th>\n",
       "      <td>T08451</td>\n",
       "      <td>2020-02-25</td>\n",
       "      <td>1</td>\n",
       "      <td>2020-03-31</td>\n",
       "      <td>2</td>\n",
       "      <td>2</td>\n",
       "      <td>2020-04-07</td>\n",
       "      <td>9:00:00</td>\n",
       "      <td>13:00:00</td>\n",
       "      <td>1</td>\n",
       "      <td>무통장입금</td>\n",
       "      <td>충남 천안시</td>\n",
       "      <td>일반주택</td>\n",
       "      <td>없음</td>\n",
       "      <td>2019-09-20</td>\n",
       "      <td>없음</td>\n",
       "      <td>모름</td>\n",
       "      <td>없음</td>\n",
       "      <td>0</td>\n",
       "      <td>1966</td>\n",
       "      <td>0</td>\n",
       "      <td>안드로이드</td>\n",
       "      <td>대중교통</td>\n",
       "      <td>천안/아산</td>\n",
       "      <td>0.0</td>\n",
       "      <td>0.0</td>\n",
       "      <td>1</td>\n",
       "      <td>0</td>\n",
       "      <td>2</td>\n",
       "      <td>25</td>\n",
       "      <td>7</td>\n",
       "      <td>2</td>\n",
       "      <td>1</td>\n",
       "      <td>2.0</td>\n",
       "      <td>0</td>\n",
       "      <td>5</td>\n",
       "    </tr>\n",
       "    <tr>\n",
       "      <th>...</th>\n",
       "      <td>...</td>\n",
       "      <td>...</td>\n",
       "      <td>...</td>\n",
       "      <td>...</td>\n",
       "      <td>...</td>\n",
       "      <td>...</td>\n",
       "      <td>...</td>\n",
       "      <td>...</td>\n",
       "      <td>...</td>\n",
       "      <td>...</td>\n",
       "      <td>...</td>\n",
       "      <td>...</td>\n",
       "      <td>...</td>\n",
       "      <td>...</td>\n",
       "      <td>...</td>\n",
       "      <td>...</td>\n",
       "      <td>...</td>\n",
       "      <td>...</td>\n",
       "      <td>...</td>\n",
       "      <td>...</td>\n",
       "      <td>...</td>\n",
       "      <td>...</td>\n",
       "      <td>...</td>\n",
       "      <td>...</td>\n",
       "      <td>...</td>\n",
       "      <td>...</td>\n",
       "      <td>...</td>\n",
       "      <td>...</td>\n",
       "      <td>...</td>\n",
       "      <td>...</td>\n",
       "      <td>...</td>\n",
       "      <td>...</td>\n",
       "      <td>...</td>\n",
       "      <td>...</td>\n",
       "      <td>...</td>\n",
       "      <td>...</td>\n",
       "    </tr>\n",
       "    <tr>\n",
       "      <th>4239</th>\n",
       "      <td>T31589</td>\n",
       "      <td>2020-09-28</td>\n",
       "      <td>1</td>\n",
       "      <td>2020-10-05</td>\n",
       "      <td>8</td>\n",
       "      <td>1</td>\n",
       "      <td>2020-10-05</td>\n",
       "      <td>9:00:00</td>\n",
       "      <td>13:00:00</td>\n",
       "      <td>1</td>\n",
       "      <td>신용카드</td>\n",
       "      <td>충남 천안시</td>\n",
       "      <td>일반주택</td>\n",
       "      <td>40평대이상</td>\n",
       "      <td>2020-02-13</td>\n",
       "      <td>없음</td>\n",
       "      <td>0.0</td>\n",
       "      <td>방</td>\n",
       "      <td>1</td>\n",
       "      <td>1961</td>\n",
       "      <td>0</td>\n",
       "      <td>안드로이드</td>\n",
       "      <td>대중교통</td>\n",
       "      <td>천안/아산</td>\n",
       "      <td>0.0</td>\n",
       "      <td>0.0</td>\n",
       "      <td>1</td>\n",
       "      <td>0</td>\n",
       "      <td>9</td>\n",
       "      <td>28</td>\n",
       "      <td>0</td>\n",
       "      <td>2</td>\n",
       "      <td>1</td>\n",
       "      <td>1.0</td>\n",
       "      <td>0</td>\n",
       "      <td>5</td>\n",
       "    </tr>\n",
       "    <tr>\n",
       "      <th>4240</th>\n",
       "      <td>T36236</td>\n",
       "      <td>2020-01-01</td>\n",
       "      <td>1</td>\n",
       "      <td>2020-01-07</td>\n",
       "      <td>4</td>\n",
       "      <td>1</td>\n",
       "      <td>2020-01-07</td>\n",
       "      <td>14:00:00</td>\n",
       "      <td>18:00:00</td>\n",
       "      <td>0</td>\n",
       "      <td>무통장입금</td>\n",
       "      <td>충남 천안시</td>\n",
       "      <td>일반주택</td>\n",
       "      <td>없음</td>\n",
       "      <td>2020-01-07</td>\n",
       "      <td>없음</td>\n",
       "      <td>모름</td>\n",
       "      <td>없음</td>\n",
       "      <td>0</td>\n",
       "      <td>1976</td>\n",
       "      <td>0</td>\n",
       "      <td>안드로이드</td>\n",
       "      <td>자차</td>\n",
       "      <td>천안/아산</td>\n",
       "      <td>0.0</td>\n",
       "      <td>0.0</td>\n",
       "      <td>1</td>\n",
       "      <td>0</td>\n",
       "      <td>1</td>\n",
       "      <td>1</td>\n",
       "      <td>0</td>\n",
       "      <td>3</td>\n",
       "      <td>1</td>\n",
       "      <td>2.0</td>\n",
       "      <td>1</td>\n",
       "      <td>5</td>\n",
       "    </tr>\n",
       "    <tr>\n",
       "      <th>4241</th>\n",
       "      <td>T34729</td>\n",
       "      <td>2020-12-10</td>\n",
       "      <td>1</td>\n",
       "      <td>2020-12-17</td>\n",
       "      <td>4</td>\n",
       "      <td>1</td>\n",
       "      <td>2020-12-17</td>\n",
       "      <td>9:00:00</td>\n",
       "      <td>13:00:00</td>\n",
       "      <td>1</td>\n",
       "      <td>신용카드</td>\n",
       "      <td>충남 천안시</td>\n",
       "      <td>일반주택</td>\n",
       "      <td>40평대이상</td>\n",
       "      <td>2019-04-11</td>\n",
       "      <td>없음</td>\n",
       "      <td>0.0</td>\n",
       "      <td>방</td>\n",
       "      <td>0</td>\n",
       "      <td>1961</td>\n",
       "      <td>0</td>\n",
       "      <td>안드로이드</td>\n",
       "      <td>대중교통</td>\n",
       "      <td>천안/아산</td>\n",
       "      <td>0.0</td>\n",
       "      <td>0.0</td>\n",
       "      <td>1</td>\n",
       "      <td>0</td>\n",
       "      <td>12</td>\n",
       "      <td>10</td>\n",
       "      <td>0</td>\n",
       "      <td>2</td>\n",
       "      <td>1</td>\n",
       "      <td>2.0</td>\n",
       "      <td>0</td>\n",
       "      <td>5</td>\n",
       "    </tr>\n",
       "    <tr>\n",
       "      <th>4242</th>\n",
       "      <td>T53830</td>\n",
       "      <td>2020-01-02</td>\n",
       "      <td>1</td>\n",
       "      <td>2020-01-09</td>\n",
       "      <td>8</td>\n",
       "      <td>6</td>\n",
       "      <td>2020-02-20</td>\n",
       "      <td>9:00:00</td>\n",
       "      <td>13:00:00</td>\n",
       "      <td>1</td>\n",
       "      <td>무통장입금</td>\n",
       "      <td>충남 아산시</td>\n",
       "      <td>일반주택</td>\n",
       "      <td>없음</td>\n",
       "      <td>2019-06-20</td>\n",
       "      <td>없음</td>\n",
       "      <td>모름</td>\n",
       "      <td>없음</td>\n",
       "      <td>1</td>\n",
       "      <td>1964</td>\n",
       "      <td>0</td>\n",
       "      <td>기타</td>\n",
       "      <td>자차</td>\n",
       "      <td>천안/아산</td>\n",
       "      <td>0.0</td>\n",
       "      <td>0.0</td>\n",
       "      <td>0</td>\n",
       "      <td>0</td>\n",
       "      <td>1</td>\n",
       "      <td>2</td>\n",
       "      <td>42</td>\n",
       "      <td>2</td>\n",
       "      <td>1</td>\n",
       "      <td>0.0</td>\n",
       "      <td>0</td>\n",
       "      <td>5</td>\n",
       "    </tr>\n",
       "    <tr>\n",
       "      <th>4243</th>\n",
       "      <td>T30681</td>\n",
       "      <td>2021-11-10</td>\n",
       "      <td>0</td>\n",
       "      <td>2021-11-12</td>\n",
       "      <td>1</td>\n",
       "      <td>1</td>\n",
       "      <td>2021-11-12</td>\n",
       "      <td>10:00:00</td>\n",
       "      <td>15:00:00</td>\n",
       "      <td>1</td>\n",
       "      <td>신용카드</td>\n",
       "      <td>충남 천안시</td>\n",
       "      <td>일반주택</td>\n",
       "      <td>20평대</td>\n",
       "      <td>2020-06-23</td>\n",
       "      <td>없음</td>\n",
       "      <td>0.0</td>\n",
       "      <td>거실</td>\n",
       "      <td>0</td>\n",
       "      <td>1971</td>\n",
       "      <td>0</td>\n",
       "      <td>안드로이드</td>\n",
       "      <td>대중교통</td>\n",
       "      <td>천안/아산</td>\n",
       "      <td>1.0</td>\n",
       "      <td>1.0</td>\n",
       "      <td>1</td>\n",
       "      <td>0</td>\n",
       "      <td>11</td>\n",
       "      <td>10</td>\n",
       "      <td>0</td>\n",
       "      <td>3</td>\n",
       "      <td>1</td>\n",
       "      <td>4.0</td>\n",
       "      <td>0</td>\n",
       "      <td>3</td>\n",
       "    </tr>\n",
       "  </tbody>\n",
       "</table>\n",
       "<p>27253 rows × 36 columns</p>\n",
       "</div>"
      ],
      "text/plain": [
       "         SEQ         접수일  장기서비스여부     최초서비스일  전체회차  현재회차      서비스일자   서비스시작시간  \\\n",
       "0     T06420  2019-07-09        1 2019-07-15     3     3 2019-07-29   9:00:00   \n",
       "1     T15430  2019-07-12        1 2019-07-15     4     3 2019-08-20  10:00:00   \n",
       "2     T23790  2020-11-18        1 2020-11-23    10     6 2020-12-11   9:00:00   \n",
       "3     T18740  2020-11-09        1 2020-11-09     4     4 2020-11-30   9:00:00   \n",
       "4     T08451  2020-02-25        1 2020-03-31     2     2 2020-04-07   9:00:00   \n",
       "...      ...         ...      ...        ...   ...   ...        ...       ...   \n",
       "4239  T31589  2020-09-28        1 2020-10-05     8     1 2020-10-05   9:00:00   \n",
       "4240  T36236  2020-01-01        1 2020-01-07     4     1 2020-01-07  14:00:00   \n",
       "4241  T34729  2020-12-10        1 2020-12-17     4     1 2020-12-17   9:00:00   \n",
       "4242  T53830  2020-01-02        1 2020-01-09     8     6 2020-02-20   9:00:00   \n",
       "4243  T30681  2021-11-10        0 2021-11-12     1     1 2021-11-12  10:00:00   \n",
       "\n",
       "       서비스종료시간  기존고객여부   결재형태   서비스주소  주거형태      평수       고객가입일 반려동물 부재중여부  \\\n",
       "0     13:00:00       1  무통장입금  충남 천안시  일반주택      없음  2019-04-22   없음    모름   \n",
       "1     16:00:00       1  무통장입금  충남 천안시  일반주택      없음  2019-05-21   없음    모름   \n",
       "2     13:00:00       1   신용카드  충남 천안시  일반주택  40평대이상  2020-10-14   없음   0.0   \n",
       "3     14:00:00       1  무통장입금  서울 강서구  일반주택    30평대  2020-02-06   없음   0.0   \n",
       "4     13:00:00       1  무통장입금  충남 천안시  일반주택      없음  2019-09-20   없음    모름   \n",
       "...        ...     ...    ...     ...   ...     ...         ...  ...   ...   \n",
       "4239  13:00:00       1   신용카드  충남 천안시  일반주택  40평대이상  2020-02-13   없음   0.0   \n",
       "4240  18:00:00       0  무통장입금  충남 천안시  일반주택      없음  2020-01-07   없음    모름   \n",
       "4241  13:00:00       1   신용카드  충남 천안시  일반주택  40평대이상  2019-04-11   없음   0.0   \n",
       "4242  13:00:00       1  무통장입금  충남 아산시  일반주택      없음  2019-06-20   없음    모름   \n",
       "4243  15:00:00       1   신용카드  충남 천안시  일반주택    20평대  2020-06-23   없음   0.0   \n",
       "\n",
       "     우선청소  쿠폰사용여부  매니저생년월일  매니저성별 매니저사용휴대폰 매니저이동방법 근무가능지역  CS교육이수여부  청소교육이수여부  \\\n",
       "0      없음       0     1956      0    안드로이드    대중교통     서울       0.0       0.0   \n",
       "1      없음       0     1976      0    안드로이드    대중교통  천안/아산       1.0       1.0   \n",
       "2      없음       0     1970      0    안드로이드    대중교통  천안/아산       0.0       0.0   \n",
       "3       방       0     1956      0    안드로이드    대중교통     서울       0.0       0.0   \n",
       "4      없음       0     1966      0    안드로이드    대중교통  천안/아산       0.0       0.0   \n",
       "...   ...     ...      ...    ...      ...     ...    ...       ...       ...   \n",
       "4239    방       1     1961      0    안드로이드    대중교통  천안/아산       0.0       0.0   \n",
       "4240   없음       0     1976      0    안드로이드      자차  천안/아산       0.0       0.0   \n",
       "4241    방       0     1961      0    안드로이드    대중교통  천안/아산       0.0       0.0   \n",
       "4242   없음       1     1964      0       기타      자차  천안/아산       0.0       0.0   \n",
       "4243   거실       0     1971      0    안드로이드    대중교통  천안/아산       1.0       1.0   \n",
       "\n",
       "      부재중서비스가능여부  추천인여부  접수월  접수일일  서비스이용기간  매니저연령대  반려동물여부  종합지수  서비스시간대  \\\n",
       "0              1      0    7     9       14       1       1   2.0       0   \n",
       "1              1      0    7    12       36       3       1   4.0       0   \n",
       "2              0      0   11    18       18       3       1   1.0       0   \n",
       "3              1      0   11     9       21       1       1   2.0       0   \n",
       "4              1      0    2    25        7       2       1   2.0       0   \n",
       "...          ...    ...  ...   ...      ...     ...     ...   ...     ...   \n",
       "4239           1      0    9    28        0       2       1   1.0       0   \n",
       "4240           1      0    1     1        0       3       1   2.0       1   \n",
       "4241           1      0   12    10        0       2       1   2.0       0   \n",
       "4242           0      0    1     2       42       2       1   0.0       0   \n",
       "4243           1      0   11    10        0       3       1   4.0       0   \n",
       "\n",
       "      주거가중치  \n",
       "0         5  \n",
       "1         5  \n",
       "2         5  \n",
       "3         4  \n",
       "4         5  \n",
       "...     ...  \n",
       "4239      5  \n",
       "4240      5  \n",
       "4241      5  \n",
       "4242      5  \n",
       "4243      3  \n",
       "\n",
       "[27253 rows x 36 columns]"
      ]
     },
     "execution_count": 16,
     "metadata": {},
     "output_type": "execute_result"
    }
   ],
   "source": [
    "tr"
   ]
  },
  {
   "cell_type": "markdown",
   "metadata": {},
   "source": [
    "#### 4-7. 서비스주소_광역 feature 생성"
   ]
  },
  {
   "cell_type": "code",
   "execution_count": 17,
   "metadata": {
    "id": "hTKnxV9VHyrZ"
   },
   "outputs": [],
   "source": [
    "tr = tr.replace('수도권', '서울/경기/인천')\n",
    "tr = tr.replace('천안/아산', '충남/천안/아산')"
   ]
  },
  {
   "cell_type": "code",
   "execution_count": 18,
   "metadata": {
    "id": "lhTNtmvJHzZ_"
   },
   "outputs": [],
   "source": [
    "region = []\n",
    "for i in tr.서비스주소 :\n",
    "    region.append(i[:2])\n",
    "\n",
    "tr['서비스주소_광역'] = region"
   ]
  },
  {
   "cell_type": "code",
   "execution_count": 19,
   "metadata": {},
   "outputs": [
    {
     "data": {
      "text/plain": [
       "충남    18164\n",
       "서울     3558\n",
       "강원     3325\n",
       "광주      825\n",
       "부산      805\n",
       "경기      533\n",
       "경남       43\n",
       "Name: 서비스주소_광역, dtype: int64"
      ]
     },
     "execution_count": 19,
     "metadata": {},
     "output_type": "execute_result"
    }
   ],
   "source": [
    "tr.서비스주소_광역.value_counts()"
   ]
  },
  {
   "cell_type": "markdown",
   "metadata": {},
   "source": [
    "#### 4-8. 서비스시간 feature 생성"
   ]
  },
  {
   "cell_type": "code",
   "execution_count": 20,
   "metadata": {
    "id": "vLl1-_C4H0PF"
   },
   "outputs": [],
   "source": [
    "tr['서비스시작시간'] = pd.to_datetime(pd.to_datetime(tr.서비스시작시간))\n",
    "tr['서비스종료시간'] = pd.to_datetime(pd.to_datetime(tr.서비스종료시간))"
   ]
  },
  {
   "cell_type": "code",
   "execution_count": 21,
   "metadata": {
    "id": "UiDTt1rpH1Hr"
   },
   "outputs": [],
   "source": [
    "tr['서비스시간'] = tr['서비스종료시간'].dt.hour - tr['서비스시작시간'].dt.hour "
   ]
  },
  {
   "cell_type": "code",
   "execution_count": 22,
   "metadata": {
    "id": "-H2LV9DAH16e"
   },
   "outputs": [],
   "source": [
    "tr['접수일'] = pd.to_datetime(pd.to_datetime(tr['접수일']))"
   ]
  },
  {
   "cell_type": "markdown",
   "metadata": {},
   "source": [
    "#### 4-9. 서비스대기기간 feature 생성"
   ]
  },
  {
   "cell_type": "code",
   "execution_count": 23,
   "metadata": {
    "id": "t87h90WUH2vj"
   },
   "outputs": [],
   "source": [
    "tr['서비스대기기간'] = (tr['최초서비스일'] - tr['접수일']).apply(lambda x: int(str(x)[:-14]))"
   ]
  },
  {
   "cell_type": "markdown",
   "metadata": {},
   "source": [
    "#### 4-10. 접수요일 feature 생성"
   ]
  },
  {
   "cell_type": "code",
   "execution_count": 24,
   "metadata": {
    "id": "xqvy40b_H3fN"
   },
   "outputs": [],
   "source": [
    "tr['접수요일'] = tr['접수일'].dt.weekday"
   ]
  },
  {
   "cell_type": "markdown",
   "metadata": {},
   "source": [
    "#### 4-11. 매니저나이 feature 생성"
   ]
  },
  {
   "cell_type": "code",
   "execution_count": 25,
   "metadata": {
    "id": "F6UgrtMWH4Tl"
   },
   "outputs": [],
   "source": [
    "tr['매니저나이'] = 2021 - tr['매니저생년월일']"
   ]
  },
  {
   "cell_type": "markdown",
   "metadata": {},
   "source": [
    "#### 4-12. 서비스이용기준(장.단기 고객여부) feature 생성"
   ]
  },
  {
   "cell_type": "code",
   "execution_count": 26,
   "metadata": {
    "colab": {
     "base_uri": "https://localhost:8080/"
    },
    "id": "flXggxIcH5Ed",
    "outputId": "17eb7cf4-4a76-44d9-fbdd-8d0cb20c66f6"
   },
   "outputs": [
    {
     "data": {
      "text/plain": [
       "count    23009.000000\n",
       "mean         4.642357\n",
       "std          2.323255\n",
       "min          1.000000\n",
       "25%          4.000000\n",
       "50%          4.000000\n",
       "75%          4.000000\n",
       "max         30.000000\n",
       "Name: 전체회차, dtype: float64"
      ]
     },
     "execution_count": 26,
     "metadata": {},
     "output_type": "execute_result"
    }
   ],
   "source": [
    "train['전체회차'].describe()"
   ]
  },
  {
   "cell_type": "code",
   "execution_count": 27,
   "metadata": {
    "id": "7xHife9YH5uS"
   },
   "outputs": [],
   "source": [
    "def service(x):\n",
    "    if x >= 5:\n",
    "        return '장기'\n",
    "    else:\n",
    "        return '단기'\n",
    "\n",
    "train['서비스이용기준'] = train['전체회차'].apply(lambda x: service(x))"
   ]
  },
  {
   "cell_type": "code",
   "execution_count": 28,
   "metadata": {
    "id": "T13hOkADH6tZ"
   },
   "outputs": [],
   "source": [
    "tr['고객가입일'] = pd.to_datetime(pd.to_datetime(tr.고객가입일))"
   ]
  },
  {
   "cell_type": "markdown",
   "metadata": {},
   "source": [
    "#### 4-13. 고객탐색기간 feature 생성"
   ]
  },
  {
   "cell_type": "code",
   "execution_count": 29,
   "metadata": {
    "id": "QeoOlyu7H7aw"
   },
   "outputs": [],
   "source": [
    "tr['고객탐색기간'] = tr['최초서비스일'] - tr['고객가입일']"
   ]
  },
  {
   "cell_type": "code",
   "execution_count": 30,
   "metadata": {
    "id": "nGb4K5UCH8Mq"
   },
   "outputs": [],
   "source": [
    "tr['고객탐색기간'] = tr['고객탐색기간'].apply(lambda x : int(str(x)[:-14]))"
   ]
  },
  {
   "cell_type": "code",
   "execution_count": 31,
   "metadata": {
    "id": "jRy1lHVDH81z"
   },
   "outputs": [],
   "source": [
    "tr = tr.astype({'매니저나이': 'object'})\n",
    "tr = tr.astype({'매니저연령대': 'object'})"
   ]
  },
  {
   "cell_type": "code",
   "execution_count": 32,
   "metadata": {
    "id": "1OSXP8OGH9l-"
   },
   "outputs": [],
   "source": [
    "col3 = {'서비스시작시간','서비스종료시간', '고객가입일'}      \n",
    "tr = tr.drop(col3, axis='columns')"
   ]
  },
  {
   "cell_type": "code",
   "execution_count": 33,
   "metadata": {
    "id": "vOgdqt-6H-Wp"
   },
   "outputs": [],
   "source": [
    "tl = ['접수일', '최초서비스일', '서비스일자', '고객탐색기간', '매니저성별', '매니저생년월일', '접수월', '접수일일', '접수요일']\n",
    "for i in tl:\n",
    "    tr[i] = tr[i].astype('object')"
   ]
  },
  {
   "cell_type": "code",
   "execution_count": 34,
   "metadata": {
    "id": "weewB0J2S9NR"
   },
   "outputs": [],
   "source": [
    "##aggregate"
   ]
  },
  {
   "cell_type": "code",
   "execution_count": 35,
   "metadata": {
    "colab": {
     "base_uri": "https://localhost:8080/"
    },
    "id": "Z6LtmJ09S9Pc",
    "outputId": "3d8e1891-6446-4ebb-ebf4-493fe5fc8e51"
   },
   "outputs": [
    {
     "name": "stdout",
     "output_type": "stream",
     "text": [
      "<class 'pandas.core.frame.DataFrame'>\n",
      "Int64Index: 27253 entries, 0 to 4243\n",
      "Data columns (total 39 columns):\n",
      " #   Column      Non-Null Count  Dtype  \n",
      "---  ------      --------------  -----  \n",
      " 0   SEQ         27253 non-null  object \n",
      " 1   접수일         27253 non-null  object \n",
      " 2   장기서비스여부     27253 non-null  int64  \n",
      " 3   최초서비스일      27253 non-null  object \n",
      " 4   전체회차        27253 non-null  int64  \n",
      " 5   현재회차        27253 non-null  int64  \n",
      " 6   서비스일자       27253 non-null  object \n",
      " 7   기존고객여부      27253 non-null  int64  \n",
      " 8   결재형태        27253 non-null  object \n",
      " 9   서비스주소       27253 non-null  object \n",
      " 10  주거형태        27253 non-null  object \n",
      " 11  평수          27253 non-null  object \n",
      " 12  반려동물        27253 non-null  object \n",
      " 13  부재중여부       27253 non-null  object \n",
      " 14  우선청소        27253 non-null  object \n",
      " 15  쿠폰사용여부      27253 non-null  int64  \n",
      " 16  매니저생년월일     27253 non-null  object \n",
      " 17  매니저성별       27253 non-null  object \n",
      " 18  매니저사용휴대폰    27253 non-null  object \n",
      " 19  매니저이동방법     27253 non-null  object \n",
      " 20  근무가능지역      27253 non-null  object \n",
      " 21  CS교육이수여부    27253 non-null  float64\n",
      " 22  청소교육이수여부    27253 non-null  float64\n",
      " 23  부재중서비스가능여부  27253 non-null  int64  \n",
      " 24  추천인여부       27253 non-null  int64  \n",
      " 25  접수월         27253 non-null  object \n",
      " 26  접수일일        27253 non-null  object \n",
      " 27  서비스이용기간     27253 non-null  int64  \n",
      " 28  매니저연령대      27253 non-null  object \n",
      " 29  반려동물여부      27253 non-null  int64  \n",
      " 30  종합지수        27253 non-null  float64\n",
      " 31  서비스시간대      27253 non-null  int64  \n",
      " 32  주거가중치       27253 non-null  int64  \n",
      " 33  서비스주소_광역    27253 non-null  object \n",
      " 34  서비스시간       27253 non-null  int64  \n",
      " 35  서비스대기기간     27253 non-null  int64  \n",
      " 36  접수요일        27253 non-null  object \n",
      " 37  매니저나이       27253 non-null  object \n",
      " 38  고객탐색기간      27253 non-null  object \n",
      "dtypes: float64(3), int64(13), object(23)\n",
      "memory usage: 8.3+ MB\n"
     ]
    }
   ],
   "source": [
    "tr.info()"
   ]
  },
  {
   "cell_type": "markdown",
   "metadata": {},
   "source": [
    "## 학습 데이터 준비"
   ]
  },
  {
   "cell_type": "code",
   "execution_count": 36,
   "metadata": {
    "id": "Pp3p2MXqZMoE"
   },
   "outputs": [],
   "source": [
    "train_data = tr[0:len(train)]\n",
    "train_label = train.매칭성공여부\n",
    "train_data['매칭성공여부'] = train_label"
   ]
  },
  {
   "cell_type": "code",
   "execution_count": 37,
   "metadata": {
    "id": "8efYwbWIH_AT"
   },
   "outputs": [],
   "source": [
    "tr1 = tr.drop('SEQ', axis=1)\n",
    "tr1 = pd.get_dummies(tr1)\n",
    "tr = pd.concat([tr.SEQ,tr1],axis=1)"
   ]
  },
  {
   "cell_type": "code",
   "execution_count": 38,
   "metadata": {
    "id": "gPR9w6y6IBbL"
   },
   "outputs": [],
   "source": [
    "train_data = tr.iloc[:len(train),:]\n",
    "test_data = tr.iloc[len(train):,:]\n",
    "\n",
    "train_data = train_data.drop('SEQ', axis='columns')\n",
    "test_data = test_data.drop('SEQ', axis='columns')\n",
    "\n",
    "train_label = train.매칭성공여부"
   ]
  },
  {
   "cell_type": "code",
   "execution_count": 39,
   "metadata": {
    "id": "8c4tmu1-IEKm"
   },
   "outputs": [],
   "source": [
    "seed = 42"
   ]
  },
  {
   "cell_type": "markdown",
   "metadata": {},
   "source": [
    "#### 데이터 불균형 해소 (SMOTE)"
   ]
  },
  {
   "cell_type": "code",
   "execution_count": 41,
   "metadata": {},
   "outputs": [
    {
     "name": "stdout",
     "output_type": "stream",
     "text": [
      "Collecting imblearn\n",
      "  Downloading imblearn-0.0-py2.py3-none-any.whl (1.9 kB)\n",
      "Collecting imbalanced-learn\n",
      "  Downloading imbalanced_learn-0.10.1-py3-none-any.whl (226 kB)\n",
      "Collecting joblib>=1.1.1\n",
      "  Downloading joblib-1.2.0-py3-none-any.whl (297 kB)\n",
      "Requirement already satisfied: scipy>=1.3.2 in c:\\anaconda3\\lib\\site-packages (from imbalanced-learn->imblearn) (1.7.1)\n",
      "Requirement already satisfied: scikit-learn>=1.0.2 in c:\\anaconda3\\lib\\site-packages (from imbalanced-learn->imblearn) (1.1.1)\n",
      "Requirement already satisfied: numpy>=1.17.3 in c:\\anaconda3\\lib\\site-packages (from imbalanced-learn->imblearn) (1.20.3)\n",
      "Requirement already satisfied: threadpoolctl>=2.0.0 in c:\\anaconda3\\lib\\site-packages (from imbalanced-learn->imblearn) (2.2.0)\n",
      "Installing collected packages: joblib, imbalanced-learn, imblearn\n",
      "  Attempting uninstall: joblib\n",
      "    Found existing installation: joblib 1.1.0\n",
      "    Uninstalling joblib-1.1.0:\n",
      "      Successfully uninstalled joblib-1.1.0\n",
      "Successfully installed imbalanced-learn-0.10.1 imblearn-0.0 joblib-1.2.0\n",
      "Note: you may need to restart the kernel to use updated packages.\n"
     ]
    }
   ],
   "source": [
    "pip install imblearn"
   ]
  },
  {
   "cell_type": "code",
   "execution_count": null,
   "metadata": {
    "id": "-JtSiTRtIE3b"
   },
   "outputs": [],
   "source": [
    "from imblearn.over_sampling import *\n",
    "from imblearn.under_sampling import *\n",
    "from imblearn.combine import *\n",
    "\n",
    "smote = SMOTETomek(sampling_strategy=0.5, random_state=seed)\n",
    "train_data_over,train_label_over = smote.fit_resample(train_data,train_label)"
   ]
  },
  {
   "cell_type": "code",
   "execution_count": null,
   "metadata": {
    "id": "OOTv9qMWIFkm"
   },
   "outputs": [],
   "source": [
    "train_data_over.reset_index(drop = True, inplace=True)\n",
    "train_label_over.reset_index(drop = True, inplace=True)"
   ]
  },
  {
   "cell_type": "markdown",
   "metadata": {},
   "source": [
    "## ExtraTree분류 모델 학습"
   ]
  },
  {
   "cell_type": "code",
   "execution_count": null,
   "metadata": {
    "id": "0KIpFMEfIGnk"
   },
   "outputs": [],
   "source": [
    "n_it = 60\n",
    "random_state=42\n",
    "Kfold = StratifiedKFold(n_splits=5, shuffle=True, random_state=random_state)\n",
    "\n",
    "# 모델 훈련 함수 정의\n",
    "def return_fitted_model(model, train, target):\n",
    "    scores = []\n",
    "    models = []\n",
    "    for iter_count, (train_idx, valid_idx) in enumerate(Kfold.split(train, target)):\n",
    "\n",
    "        X_train, X_valid = train[train_idx], train[valid_idx]\n",
    "        y_train, y_valid = target[train_idx], target[valid_idx]\n",
    "\n",
    "        model.fit(X_train, y_train)\n",
    "\n",
    "        pred = model.predict(X_valid)\n",
    "        ra_score = roc_auc_score(y_valid, pred)\n",
    "        scores.append(ra_score)\n",
    "        models.append(model)\n",
    "    return model, np.mean(scores)\n"
   ]
  },
  {
   "cell_type": "code",
   "execution_count": null,
   "metadata": {
    "id": "Sp46I39Y1WUj"
   },
   "outputs": [],
   "source": [
    "model = ExtraTreesClassifier(random_state=seed, n_jobs=-1)"
   ]
  },
  {
   "cell_type": "code",
   "execution_count": null,
   "metadata": {
    "colab": {
     "base_uri": "https://localhost:8080/"
    },
    "id": "BLIL1tucIJjV",
    "outputId": "318dc143-2b28-45bb-857f-844440912792"
   },
   "outputs": [],
   "source": [
    "model, avg_score = return_fitted_model(model, train_data_over.values, train_label_over.values)\n",
    "print('score: ',avg_score)"
   ]
  },
  {
   "cell_type": "code",
   "execution_count": null,
   "metadata": {
    "colab": {
     "base_uri": "https://localhost:8080/"
    },
    "id": "HhnT0eLuIJls",
    "outputId": "0d73eb65-c4ef-45a6-9712-26cf4bc16389"
   },
   "outputs": [],
   "source": [
    "model.predict_proba(test_data)[:,1]"
   ]
  },
  {
   "cell_type": "markdown",
   "metadata": {},
   "source": [
    "## 제출용 데이터 생성"
   ]
  },
  {
   "cell_type": "code",
   "execution_count": null,
   "metadata": {
    "id": "lzDFM1iTIJpn"
   },
   "outputs": [],
   "source": [
    "pd.DataFrame({'SEQ': test.SEQ , \n",
    "              'pred': model.predict_proba(test_data)[:,1]}).to_csv(\"check.csv\", index=False)"
   ]
  }
 ],
 "metadata": {
  "accelerator": "GPU",
  "colab": {
   "collapsed_sections": [],
   "name": "Untitled1.ipynb의 사본",
   "provenance": []
  },
  "kernelspec": {
   "display_name": "Python 3 (ipykernel)",
   "language": "python",
   "name": "python3"
  },
  "language_info": {
   "codemirror_mode": {
    "name": "ipython",
    "version": 3
   },
   "file_extension": ".py",
   "mimetype": "text/x-python",
   "name": "python",
   "nbconvert_exporter": "python",
   "pygments_lexer": "ipython3",
   "version": "3.9.7"
  }
 },
 "nbformat": 4,
 "nbformat_minor": 1
}
